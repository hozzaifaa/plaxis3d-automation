{
 "cells": [
  {
   "cell_type": "markdown",
   "id": "00ef4418",
   "metadata": {},
   "source": [
    "# Connect to PLAXIS 3D Using the Python Scripting API\n",
    "\n",
    "This notebook explains how to connect to a running instance of **PLAXIS 3D Input** using Python.\n",
    "\n",
    "We will:\n",
    "\n",
    "- Use the `plxscripting.easy` module to create a connection\n",
    "- Access the PLAXIS 3D Input model via `g_i` (geometry interface)\n",
    "- Ensure the connection is successful before moving to automation steps"
   ]
  },
  {
   "cell_type": "markdown",
   "id": "8e725ec2",
   "metadata": {},
   "source": [
    "## 🛠 Requirements\n",
    "\n",
    "Before running this notebook, ensure the following:\n",
    "\n",
    "1. **PLAXIS 3D Input** is installed and running.\n",
    "2. The **Remote Scripting Server** is enabled:\n",
    "   - In PLAXIS, go to **Expert → Remote Scripting Server**\n",
    "   - Set:\n",
    "     - Host: `localhost`\n",
    "     - Port: `10000`\n",
    "     - Password: any secure string (e.g., `abc123`)\n",
    "   - Click **Start server**\n",
    "3. You are using the correct **PLAXIS Python interpreter** in Jupyter Notebook:\n",
    "   - Example path:  \n",
    "     `C:\\ProgramData\\Seequent\\PLAXIS Python Distribution V3\\python\\python.exe`"
   ]
  },
  {
   "cell_type": "code",
   "execution_count": null,
   "id": "867de043",
   "metadata": {},
   "outputs": [],
   "source": [
    "# Import the simplified server connection function from PLAXIS\n",
    "from plxscripting.easy import new_server"
   ]
  },
  {
   "cell_type": "markdown",
   "id": "28417d1f",
   "metadata": {},
   "source": [
    "## 🔌 About the Connection Function\n",
    "\n",
    "We use `new_server()` to connect to the scripting server running inside PLAXIS 3D Input.\n",
    "\n",
    "This function returns two important objects:\n",
    "\n",
    "- `s_i`: The **server interface**, used for general commands.\n",
    "- `g_i`: The **geometry interface**, used to control the PLAXIS Input model (e.g., geometry, materials, mesh).\n"
   ]
  },
  {
   "cell_type": "code",
   "execution_count": null,
   "id": "10675b6b",
   "metadata": {},
   "outputs": [],
   "source": [
    "# Replace 'abc123' with the password you set in the PLAXIS Remote Scripting Server\n",
    "s_i, g_i = new_server('localhost', 10000, password='abc123')"
   ]
  },
  {
   "cell_type": "markdown",
   "id": "3aab3fb9",
   "metadata": {},
   "source": [
    "## ✅ Verifying the Connection\n",
    "\n",
    "If the connection is successful, `g_i` will be a valid interface object connected to PLAXIS Input.\n",
    "\n",
    "Let’s print it to confirm.\n"
   ]
  },
  {
   "cell_type": "code",
   "execution_count": null,
   "id": "e0f69cf2",
   "metadata": {},
   "outputs": [
    {
     "name": "stdout",
     "output_type": "stream",
     "text": [
      "Connected to PLAXIS 3D.\n",
      "<Global object>\n"
     ]
    }
   ],
   "source": [
    "# Check if the geometry interface is valid\n",
    "print(\"Connected to PLAXIS 3D.\")\n",
    "print(g_i)"
   ]
  },
  {
   "cell_type": "markdown",
   "id": "ca354696",
   "metadata": {},
   "source": [
    "## 📈 What’s Next?\n",
    "\n",
    "You are now ready to use Python to automate PLAXIS 3D!\n",
    "\n",
    "In upcoming notebooks, you can:\n",
    "\n",
    "- Create new projects\n",
    "- Define geometry (soil volumes, plates, tunnels)\n",
    "- Assign materials\n",
    "- Generate mesh\n",
    "- Run staged construction analyses\n",
    "- Extract and visualize results"
   ]
  },
  {
   "cell_type": "markdown",
   "id": "615d7027",
   "metadata": {},
   "source": []
  }
 ],
 "metadata": {
  "kernelspec": {
   "display_name": "python",
   "language": "python",
   "name": "python3"
  },
  "language_info": {
   "codemirror_mode": {
    "name": "ipython",
    "version": 3
   },
   "file_extension": ".py",
   "mimetype": "text/x-python",
   "name": "python",
   "nbconvert_exporter": "python",
   "pygments_lexer": "ipython3",
   "version": "3.12.3"
  }
 },
 "nbformat": 4,
 "nbformat_minor": 5
}
