{
 "cells": [
  {
   "cell_type": "code",
   "execution_count": 1,
   "id": "867de043",
   "metadata": {},
   "outputs": [],
   "source": [
    "from plxscripting.easy import new_server"
   ]
  },
  {
   "cell_type": "code",
   "execution_count": 2,
   "id": "3aab3fb9",
   "metadata": {},
   "outputs": [],
   "source": [
    "s_i, g_i = new_server('localhost', 10000, password='%SVg#K2AcY$LWw//')"
   ]
  }
 ],
 "metadata": {
  "kernelspec": {
   "display_name": "python",
   "language": "python",
   "name": "python3"
  },
  "language_info": {
   "codemirror_mode": {
    "name": "ipython",
    "version": 3
   },
   "file_extension": ".py",
   "mimetype": "text/x-python",
   "name": "python",
   "nbconvert_exporter": "python",
   "pygments_lexer": "ipython3",
   "version": "3.12.3"
  }
 },
 "nbformat": 4,
 "nbformat_minor": 5
}
