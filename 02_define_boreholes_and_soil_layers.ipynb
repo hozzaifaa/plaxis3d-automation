{
 "cells": [
  {
   "cell_type": "markdown",
   "id": "aecdaf31",
   "metadata": {},
   "source": [
    "# 02 – Define Boreholes and Soil Layers\n",
    "\n",
    "This notebook demonstrates how to create boreholes and define soil layers using the PLAXIS 3D scripting API. These operations replicate the functionality available in the \"Modify Soil Layers\" dialog of the GUI, allowing for full automation of subsurface model definition.\n"
   ]
  },
  {
   "cell_type": "markdown",
   "id": "ea7455b0",
   "metadata": {},
   "source": [
    "## 🖼️ PLAXIS 3D – Modify Soil Layers Dialog\n",
    "\n",
    "This interface is used to manually define boreholes and assign stratigraphy per borehole.\n",
    "\n",
    "![Modify Soil Layers Dialog](images/modify-soil-layers.png)\n",
    "\n",
    "**Left panel**: Lists boreholes and their coordinates  \n",
    "**Right table**: Soil layers with top and bottom elevations  \n",
    "**Top buttons**: Add/Insert/Delete layers  \n",
    "**Tabs**: Options for water level, initial conditions, and surfaces\n",
    "\n",
    "By using Python scripting, we can replicate and automate all of this.\n"
   ]
  },
  {
   "cell_type": "markdown",
   "id": "efb69a71",
   "metadata": {},
   "source": [
    "## 📌 Create Borehole and Set Water Head"
   ]
  },
  {
   "cell_type": "code",
   "execution_count": null,
   "id": "46529b6c",
   "metadata": {},
   "outputs": [],
   "source": [
    "borehole_0 = g_i.borehole(0, 0)\n",
    "borehole_0.Head = -8"
   ]
  },
  {
   "cell_type": "markdown",
   "id": "be21a213",
   "metadata": {},
   "source": [
    "## 📌 Create Soil Layer at Specific Depth"
   ]
  },
  {
   "cell_type": "code",
   "execution_count": null,
   "id": "ae834d46",
   "metadata": {},
   "outputs": [],
   "source": [
    "# Creates a soil layer at the specified depth\n",
    "footing_depth = -2.0\n",
    "g_i.soillayer(g_i.Boreholes[0], footing_depth)"
   ]
  },
  {
   "cell_type": "markdown",
   "id": "f98adb03",
   "metadata": {},
   "source": [
    "## 🧪 Alternative: Set Soil Layer Level"
   ]
  },
  {
   "cell_type": "code",
   "execution_count": null,
   "id": "824a81aa",
   "metadata": {},
   "outputs": [],
   "source": [
    "borehole_g = g_i.borehole(1, 4)\n",
    "g_i.soillayer(3)\n",
    "g_i.setsoillayerlevel(borehole_g, 0, 6)  # Set boundary depth at index 0"
   ]
  },
  {
   "cell_type": "markdown",
   "id": "4a8eecd5",
   "metadata": {},
   "source": [
    "## 🧪 Alternative: Set Soil Layer Height"
   ]
  },
  {
   "cell_type": "code",
   "execution_count": null,
   "id": "fc5269f9",
   "metadata": {},
   "outputs": [],
   "source": [
    "borehole_g = g_i.borehole(1, 4)\n",
    "g_i.soillayer(3)\n",
    "soillayer_g = g_i.Soillayers[-1]\n",
    "g_i.soillayerheight(borehole_g, soillayer_g, 1)  # Set height to 1 m\n",
    "print(g_i.echo(soillayer_g))"
   ]
  },
  {
   "cell_type": "markdown",
   "id": "3052f3f6",
   "metadata": {},
   "source": [
    "## 📤 Display Soil Layer or Borehole Object"
   ]
  },
  {
   "cell_type": "code",
   "execution_count": null,
   "id": "b56c82fa",
   "metadata": {},
   "outputs": [],
   "source": [
    "# Display soil layer object address\n",
    "borehole_g = g_i.borehole(1, 4)\n",
    "layer = g_i.soillayer(borehole_g, 3)\n",
    "print(g_i.echo(layer))"
   ]
  },
  {
   "cell_type": "markdown",
   "id": "ea7bbaa8",
   "metadata": {},
   "source": [
    "## 📝 Notes\n",
    "\n",
    "- `g_i.borehole(x, y)` creates a borehole at coordinates (x, y)\n",
    "- `g_i.soillayer(borehole, depth)` creates a horizontal soil layer at that depth\n",
    "- Use `setsoillayerlevel()` to set depth at a specific boundary index\n",
    "- Use `soillayerheight()` to define the height of a layer directly\n",
    "- Use `g_i.echo()` to inspect PLAXIS objects\n",
    "\n",
    "This automation is especially useful when importing borehole data from external sources or running batch model generations.\n"
   ]
  }
 ],
 "metadata": {
  "kernelspec": {
   "display_name": "Python 3",
   "name": "python3"
  }
 },
 "nbformat": 4,
 "nbformat_minor": 5
}