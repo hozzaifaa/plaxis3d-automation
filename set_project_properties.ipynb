{
 "cells": [
  {
   "cell_type": "markdown",
   "id": "007e08d3",
   "metadata": {},
   "source": [
    "# Set Project Properties in PLAXIS 3D\n",
    "\n",
    "This notebook explains how to configure a range of global project settings using the `_setproperties` command via the PLAXIS scripting API.\n",
    "\n",
    "These settings include:\n",
    "\n",
    "- Metadata (Title, Company, Comments)\n",
    "- Units (length, force, time)\n",
    "- Water properties\n",
    "- Thermal properties (liquid, ice, vapor)\n",
    "- Mesh and analysis settings\n"
   ]
  },
  {
   "cell_type": "markdown",
   "id": "9962480a",
   "metadata": {},
   "source": [
    "## 🖼️ PLAXIS 3D – Project Properties Dialog\n",
    "\n",
    "The image below shows the **Project Properties** dialog in PLAXIS 3D. This window allows users to define basic project metadata and simulation units manually.\n",
    "\n",
    "\n",
    "![PLAXIS Project Properties Dialog](images/project-properties.png)\n",
    "\n",
    "### Key Fields:\n",
    "\n",
    "- **Title**: Name of the project (shown in file headers and metadata)\n",
    "- **Company**: Organization associated with the analysis\n",
    "- **Directory / File name**: Location where the project is saved\n",
    "- **Comments**: Optional notes for documentation\n",
    "- **Company logo**: Can be added to reports or exported plots\n",
    "\n",
    "All of these can be configured programmatically using the `g_i.setproperties()` function, which is especially useful for automation and standardization in batch projects."
   ]
  },
  {
   "cell_type": "markdown",
   "id": "f1e7f6d6",
   "metadata": {},
   "source": [
    "## 🛠️ Writing Project Metadata with `g_i.setproperties()`\n",
    "\n",
    "The fields shown in the PLAXIS 3D Project Properties dialog (like **Title**, **Company**, and **Comments**) can also be set programmatically using the PLAXIS scripting API.\n",
    "\n",
    "The function `g_i.setproperties()` is used to define or update these properties directly from a script, allowing automated and consistent project setup.\n",
    "\n",
    "### 🔧 Example Usage\n",
    "\n",
    "```python\n",
    "g_i.setproperties(\n",
    "    \"Title\", \"New project\",\n",
    "    \"Company\", \"Università di Napoli Federico II\",\n",
    "    \"Comments\", \"This project was created automatically via script.\"\n",
    ")\n"
   ]
  },
  {
   "cell_type": "markdown",
   "id": "19460089",
   "metadata": {},
   "source": [
    "## 🖼️ PLAXIS 3D – Model Properties Dialog\n",
    "\n",
    "The following image shows the **Model** tab in PLAXIS 3D's Project Properties dialog. This section allows you to define:\n",
    "\n",
    "- **Model Type**: The mechanical model scope\n",
    "- **Element Type**: Finite element formulation\n",
    "- **Units**: For length, force, and time\n",
    "- **Water Unit Weight**: Used for hydraulic and thermal calculations\n",
    "- **Contour**: Horizontal extent of the model in X and Y directions\n",
    "\n",
    "![PLAXIS Model Properties](images/model-properties.png)\n"
   ]
  },
  {
   "cell_type": "markdown",
   "id": "04fb2a5f",
   "metadata": {},
   "source": [
    "\n",
    "\n",
    "## 🔧 Example: Automate Settings Using `g_i.setproperties()`\n",
    "\n",
    "You can automate the settings shown in the dialog with:\n",
    "\n",
    "```python\n",
    "g_i.setproperties(\n",
    "    \"ModelType\", \"Full\",\n",
    "    \"ElementType\", \"10-Noded\",\n",
    "    \"UnitLength\", \"m\",\n",
    "    \"UnitForce\", \"kN\",\n",
    "    \"UnitTime\", \"day\",\n",
    "    \"WaterWeight\", 10.0\n",
    ")\n",
    "````\n",
    "\n",
    "These settings are typically applied after calling `g_i.new()` to initialize the project.\n",
    "\n",
    "---\n",
    "\n",
    "## 📐 Set Contour Using Geometry Command\n",
    "\n",
    "The **model contour extents** (Xmin, Xmax, Ymin, Ymax) are set via:\n",
    "\n",
    "```python\n",
    "g_i.SoilContour.initializerectangular(x_min, y_min, x_max, y_max)\n",
    "```\n",
    "\n",
    "### Example:\n",
    "\n",
    "```python\n",
    "g_i.SoilContour.initializerectangular(-80, 0, 80, 20)\n",
    "```\n",
    "\n",
    "This defines a rectangular soil domain from X = -80 to 80 and Y = 0 to 20.\n",
    "\n",
    "---\n",
    "\n",
    "Using scripting ensures consistency across models, prevents manual errors, and supports full automation pipelines in PLAXIS 3D.\n",
    "\n",
    "```"
   ]
  }
 ],
 "metadata": {
  "language_info": {
   "name": "python"
  }
 },
 "nbformat": 4,
 "nbformat_minor": 5
}
